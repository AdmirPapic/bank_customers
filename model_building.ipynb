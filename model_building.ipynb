{
 "cells": [
  {
   "cell_type": "markdown",
   "metadata": {},
   "source": [
    "# Model Building"
   ]
  },
  {
   "cell_type": "markdown",
   "metadata": {},
   "source": [
    "### Importing libraries"
   ]
  },
  {
   "cell_type": "code",
   "execution_count": 1,
   "metadata": {},
   "outputs": [],
   "source": [
    "import numpy as np\n",
    "import pandas as pd\n",
    "import seaborn as sns\n",
    "import matplotlib.pyplot as plt\n",
    "from sklearn.preprocessing import StandardScaler\n",
    "%matplotlib inline"
   ]
  },
  {
   "cell_type": "markdown",
   "metadata": {},
   "source": [
    "### Loading clean data"
   ]
  },
  {
   "cell_type": "code",
   "execution_count": 2,
   "metadata": {},
   "outputs": [
    {
     "data": {
      "text/html": [
       "<div>\n",
       "<style scoped>\n",
       "    .dataframe tbody tr th:only-of-type {\n",
       "        vertical-align: middle;\n",
       "    }\n",
       "\n",
       "    .dataframe tbody tr th {\n",
       "        vertical-align: top;\n",
       "    }\n",
       "\n",
       "    .dataframe thead th {\n",
       "        text-align: right;\n",
       "    }\n",
       "</style>\n",
       "<table border=\"1\" class=\"dataframe\">\n",
       "  <thead>\n",
       "    <tr style=\"text-align: right;\">\n",
       "      <th></th>\n",
       "      <th>CustGender</th>\n",
       "      <th>CustLocation</th>\n",
       "      <th>Age</th>\n",
       "      <th>CustAccountBalance</th>\n",
       "    </tr>\n",
       "  </thead>\n",
       "  <tbody>\n",
       "    <tr>\n",
       "      <th>0</th>\n",
       "      <td>M</td>\n",
       "      <td>MOHALI</td>\n",
       "      <td>41</td>\n",
       "      <td>48429.49</td>\n",
       "    </tr>\n",
       "    <tr>\n",
       "      <th>1</th>\n",
       "      <td>M</td>\n",
       "      <td>AHMEDABAD</td>\n",
       "      <td>45</td>\n",
       "      <td>32274.78</td>\n",
       "    </tr>\n",
       "    <tr>\n",
       "      <th>2</th>\n",
       "      <td>M</td>\n",
       "      <td>KOTA</td>\n",
       "      <td>32</td>\n",
       "      <td>282455.64</td>\n",
       "    </tr>\n",
       "    <tr>\n",
       "      <th>3</th>\n",
       "      <td>M</td>\n",
       "      <td>AGRA</td>\n",
       "      <td>29</td>\n",
       "      <td>2502.74</td>\n",
       "    </tr>\n",
       "    <tr>\n",
       "      <th>4</th>\n",
       "      <td>M</td>\n",
       "      <td>PUNE</td>\n",
       "      <td>32</td>\n",
       "      <td>250.26</td>\n",
       "    </tr>\n",
       "    <tr>\n",
       "      <th>...</th>\n",
       "      <td>...</td>\n",
       "      <td>...</td>\n",
       "      <td>...</td>\n",
       "      <td>...</td>\n",
       "    </tr>\n",
       "    <tr>\n",
       "      <th>44469</th>\n",
       "      <td>M</td>\n",
       "      <td>THANE</td>\n",
       "      <td>33</td>\n",
       "      <td>218207.57</td>\n",
       "    </tr>\n",
       "    <tr>\n",
       "      <th>44470</th>\n",
       "      <td>M</td>\n",
       "      <td>IMPERIA THANE WEST</td>\n",
       "      <td>41</td>\n",
       "      <td>182889.37</td>\n",
       "    </tr>\n",
       "    <tr>\n",
       "      <th>44471</th>\n",
       "      <td>F</td>\n",
       "      <td>NEW DELHI</td>\n",
       "      <td>30</td>\n",
       "      <td>15037.89</td>\n",
       "    </tr>\n",
       "    <tr>\n",
       "      <th>44472</th>\n",
       "      <td>M</td>\n",
       "      <td>SHILLLONG</td>\n",
       "      <td>35</td>\n",
       "      <td>1002.96</td>\n",
       "    </tr>\n",
       "    <tr>\n",
       "      <th>44473</th>\n",
       "      <td>M</td>\n",
       "      <td>VISAKHAPATNAM</td>\n",
       "      <td>45</td>\n",
       "      <td>10117.87</td>\n",
       "    </tr>\n",
       "  </tbody>\n",
       "</table>\n",
       "<p>44474 rows × 4 columns</p>\n",
       "</div>"
      ],
      "text/plain": [
       "      CustGender        CustLocation  Age  CustAccountBalance\n",
       "0              M              MOHALI   41            48429.49\n",
       "1              M           AHMEDABAD   45            32274.78\n",
       "2              M                KOTA   32           282455.64\n",
       "3              M                AGRA   29             2502.74\n",
       "4              M                PUNE   32              250.26\n",
       "...          ...                 ...  ...                 ...\n",
       "44469          M               THANE   33           218207.57\n",
       "44470          M  IMPERIA THANE WEST   41           182889.37\n",
       "44471          F           NEW DELHI   30            15037.89\n",
       "44472          M           SHILLLONG   35             1002.96\n",
       "44473          M       VISAKHAPATNAM   45            10117.87\n",
       "\n",
       "[44474 rows x 4 columns]"
      ]
     },
     "execution_count": 2,
     "metadata": {},
     "output_type": "execute_result"
    }
   ],
   "source": [
    "data = pd.read_csv(\"./clean_data.csv\")\n",
    "data"
   ]
  },
  {
   "cell_type": "markdown",
   "metadata": {},
   "source": [
    "### Feature scaling"
   ]
  },
  {
   "cell_type": "code",
   "execution_count": 3,
   "metadata": {},
   "outputs": [
    {
     "data": {
      "text/html": [
       "<div>\n",
       "<style scoped>\n",
       "    .dataframe tbody tr th:only-of-type {\n",
       "        vertical-align: middle;\n",
       "    }\n",
       "\n",
       "    .dataframe tbody tr th {\n",
       "        vertical-align: top;\n",
       "    }\n",
       "\n",
       "    .dataframe thead th {\n",
       "        text-align: right;\n",
       "    }\n",
       "</style>\n",
       "<table border=\"1\" class=\"dataframe\">\n",
       "  <thead>\n",
       "    <tr style=\"text-align: right;\">\n",
       "      <th></th>\n",
       "      <th>CustGender</th>\n",
       "      <th>CustLocation</th>\n",
       "      <th>Age</th>\n",
       "      <th>CustAccountBalance</th>\n",
       "    </tr>\n",
       "  </thead>\n",
       "  <tbody>\n",
       "    <tr>\n",
       "      <th>0</th>\n",
       "      <td>1</td>\n",
       "      <td>MOHALI</td>\n",
       "      <td>0.137908</td>\n",
       "      <td>-0.068315</td>\n",
       "    </tr>\n",
       "    <tr>\n",
       "      <th>1</th>\n",
       "      <td>1</td>\n",
       "      <td>AHMEDABAD</td>\n",
       "      <td>0.517288</td>\n",
       "      <td>-0.090946</td>\n",
       "    </tr>\n",
       "    <tr>\n",
       "      <th>2</th>\n",
       "      <td>1</td>\n",
       "      <td>KOTA</td>\n",
       "      <td>-0.715696</td>\n",
       "      <td>0.259528</td>\n",
       "    </tr>\n",
       "    <tr>\n",
       "      <th>3</th>\n",
       "      <td>1</td>\n",
       "      <td>AGRA</td>\n",
       "      <td>-1.000231</td>\n",
       "      <td>-0.132653</td>\n",
       "    </tr>\n",
       "    <tr>\n",
       "      <th>4</th>\n",
       "      <td>1</td>\n",
       "      <td>PUNE</td>\n",
       "      <td>-0.715696</td>\n",
       "      <td>-0.135808</td>\n",
       "    </tr>\n",
       "    <tr>\n",
       "      <th>...</th>\n",
       "      <td>...</td>\n",
       "      <td>...</td>\n",
       "      <td>...</td>\n",
       "      <td>...</td>\n",
       "    </tr>\n",
       "    <tr>\n",
       "      <th>44469</th>\n",
       "      <td>1</td>\n",
       "      <td>THANE</td>\n",
       "      <td>-0.620851</td>\n",
       "      <td>0.169524</td>\n",
       "    </tr>\n",
       "    <tr>\n",
       "      <th>44470</th>\n",
       "      <td>1</td>\n",
       "      <td>IMPERIA THANE WEST</td>\n",
       "      <td>0.137908</td>\n",
       "      <td>0.120048</td>\n",
       "    </tr>\n",
       "    <tr>\n",
       "      <th>44471</th>\n",
       "      <td>0</td>\n",
       "      <td>NEW DELHI</td>\n",
       "      <td>-0.905386</td>\n",
       "      <td>-0.115093</td>\n",
       "    </tr>\n",
       "    <tr>\n",
       "      <th>44472</th>\n",
       "      <td>1</td>\n",
       "      <td>SHILLLONG</td>\n",
       "      <td>-0.431161</td>\n",
       "      <td>-0.134754</td>\n",
       "    </tr>\n",
       "    <tr>\n",
       "      <th>44473</th>\n",
       "      <td>1</td>\n",
       "      <td>VISAKHAPATNAM</td>\n",
       "      <td>0.517288</td>\n",
       "      <td>-0.121985</td>\n",
       "    </tr>\n",
       "  </tbody>\n",
       "</table>\n",
       "<p>44474 rows × 4 columns</p>\n",
       "</div>"
      ],
      "text/plain": [
       "       CustGender        CustLocation       Age  CustAccountBalance\n",
       "0               1              MOHALI  0.137908           -0.068315\n",
       "1               1           AHMEDABAD  0.517288           -0.090946\n",
       "2               1                KOTA -0.715696            0.259528\n",
       "3               1                AGRA -1.000231           -0.132653\n",
       "4               1                PUNE -0.715696           -0.135808\n",
       "...           ...                 ...       ...                 ...\n",
       "44469           1               THANE -0.620851            0.169524\n",
       "44470           1  IMPERIA THANE WEST  0.137908            0.120048\n",
       "44471           0           NEW DELHI -0.905386           -0.115093\n",
       "44472           1           SHILLLONG -0.431161           -0.134754\n",
       "44473           1       VISAKHAPATNAM  0.517288           -0.121985\n",
       "\n",
       "[44474 rows x 4 columns]"
      ]
     },
     "execution_count": 3,
     "metadata": {},
     "output_type": "execute_result"
    }
   ],
   "source": [
    "### Prepare the training data for model fitting\n",
    "\n",
    "# Get dummy variables for the categorical values  \n",
    "df = data.replace([\"M\", \"F\"], [1, 0])\n",
    "\n",
    "# Take only numeric feaetures in order to standard scale them\n",
    "numeric_features = ['Age', 'CustAccountBalance']\n",
    "\n",
    "# Scale the features\n",
    "scaler = StandardScaler()\n",
    "df[numeric_features] = scaler.fit_transform(df[numeric_features])\n",
    "df"
   ]
  },
  {
   "cell_type": "code",
   "execution_count": 4,
   "metadata": {},
   "outputs": [],
   "source": [
    "X = df[numeric_features + [\"CustGender\"]]"
   ]
  },
  {
   "cell_type": "markdown",
   "metadata": {},
   "source": [
    "### KMeans Clustering"
   ]
  },
  {
   "cell_type": "code",
   "execution_count": 5,
   "metadata": {},
   "outputs": [
    {
     "data": {
      "text/plain": [
       "Text(0, 0.5, 'Inertia')"
      ]
     },
     "execution_count": 5,
     "metadata": {},
     "output_type": "execute_result"
    },
    {
     "data": {
      "image/png": "[encoded data removed]",
      "text/plain": [
       "<Figure size 640x480 with 1 Axes>"
      ]
     },
     "metadata": {},
     "output_type": "display_data"
    }
   ],
   "source": [
    "from sklearn.cluster import KMeans\n",
    "\n",
    "### The optimal number of clusters in KMeans Clustering will be determined using the elbow method\n",
    "\n",
    "# List containing intertia for each number of clusters\n",
    "inertia = []\n",
    "\n",
    "# Loop through number of clusters from 1 - 10 and store info about the inertia for each model\n",
    "num_clusters = list(range(1, 11))\n",
    "for i in num_clusters:\n",
    "    km = KMeans(n_clusters = i, n_init = 3) # Initialize number of clusters\n",
    "    km.fit(X) # Fit the model\n",
    "    inertia.append(km.inertia_) # Store inertia info\n",
    "\n",
    "\n",
    "# Plot the inertia for each number of clusters\n",
    "plt.plot(num_clusters,inertia)\n",
    "plt.scatter(num_clusters,inertia)\n",
    "plt.xlabel('Number of Clusters')\n",
    "plt.ylabel('Inertia')"
   ]
  },
  {
   "cell_type": "code",
   "execution_count": 6,
   "metadata": {},
   "outputs": [
    {
     "data": {
      "text/plain": [
       "Class\n",
       "0    36273\n",
       "1     8186\n",
       "2       15\n",
       "Name: count, dtype: int64"
      ]
     },
     "execution_count": 6,
     "metadata": {},
     "output_type": "execute_result"
    }
   ],
   "source": [
    "### It is clear that inertia starts to drop off more slowly after only 3 clusters\n",
    "\n",
    "km = KMeans(n_clusters = 3, n_init = 3) # Initialize the model\n",
    "km.fit(X) # Fit the model\n",
    "\n",
    "# Store predicted classes (clusters)\n",
    "y_pred = km.predict(X)\n",
    "data[\"Class\"] = y_pred\n",
    "\n",
    "# Check value counts for each cluster\n",
    "data[\"Class\"].value_counts()\n"
   ]
  },
  {
   "cell_type": "code",
   "execution_count": 7,
   "metadata": {},
   "outputs": [],
   "source": [
    "# Get three dataframes (one for each class)\n",
    "class_0 = data[data[\"Class\"] == 0]\n",
    "class_1 = data[data[\"Class\"] == 1]\n",
    "class_2 = data[data[\"Class\"] == 2]"
   ]
  },
  {
   "cell_type": "code",
   "execution_count": 8,
   "metadata": {},
   "outputs": [
    {
     "data": {
      "image/png": "[encoded data removed]",
      "text/plain": [
       "<Figure size 1200x400 with 3 Axes>"
      ]
     },
     "metadata": {},
     "output_type": "display_data"
    }
   ],
   "source": [
    "# Create a figure with three subplots\n",
    "fig, axes = plt.subplots(1, 3, figsize=(12, 4))  # 1 row, 3 columns of subplots\n",
    "\n",
    "# Get value counts for genders of each class\n",
    "gender_counts0 = class_0['CustGender'].value_counts()\n",
    "gender_counts1 = class_1['CustGender'].value_counts()\n",
    "gender_counts2 = class_2['CustGender'].value_counts()\n",
    "\n",
    "# Plot the first barplot for class_0 on the first subplot\n",
    "axes[0].barh(gender_counts0.index, gender_counts0.values, color=['blue', 'pink'])\n",
    "axes[0].set_xlabel('Count')\n",
    "axes[0].set_yticks(gender_counts0.index, ['Male', 'Female'])\n",
    "axes[0].set_title('Class 0 Gender Distribution')\n",
    "\n",
    "# Plot the second barplot for class_1 on the second subplot\n",
    "axes[1].barh(gender_counts1.index, gender_counts1.values, color=['blue', 'pink'])\n",
    "axes[1].set_xlabel('Count')\n",
    "axes[1].set_yticks(gender_counts1.index, ['Male', 'Female'])\n",
    "axes[1].set_title('Class 1 Gender Distribution')\n",
    "\n",
    "# Plot the third barplot for class_1 on the second subplot\n",
    "axes[2].barh(gender_counts2.index, gender_counts2.values, color=['blue', 'pink'])\n",
    "axes[2].set_xlabel('Count')\n",
    "axes[2].set_yticks(gender_counts2.index, ['Male', 'Female'])\n",
    "axes[2].set_title('Class 2 Gender Distribution')\n",
    "\n",
    "# Adjust spacing between subplots\n",
    "plt.tight_layout()\n",
    "\n",
    "# Show the plot\n",
    "plt.show()"
   ]
  },
  {
   "cell_type": "code",
   "execution_count": 9,
   "metadata": {},
   "outputs": [
    {
     "data": {
      "image/png": "[encoded data removed]",
      "text/plain": [
       "<Figure size 1200x400 with 3 Axes>"
      ]
     },
     "metadata": {},
     "output_type": "display_data"
    }
   ],
   "source": [
    "# Define bin edges\n",
    "bin_edges = [0, 10, 20, 30, 40, 50, 60, 70, 80, 90, 100]\n",
    "\n",
    "# Create a figure with three subplots\n",
    "fig, axes = plt.subplots(1, 3, figsize=(12, 4))  # 1 row, 3 columns of subplots\n",
    "\n",
    "# Plot the first histogram for class_0 on the first subplot\n",
    "axes[0].hist(data=class_0, x=\"Age\", bins=bin_edges, edgecolor='k')\n",
    "axes[0].set_xticks(bin_edges)\n",
    "axes[0].set_xlabel('Age')\n",
    "axes[0].set_ylabel('Frequency')\n",
    "axes[0].set_title('Class 0 Age Distribution')\n",
    "\n",
    "# Plot the second histogram for class_1 on the second subplot\n",
    "axes[1].hist(data=class_1, x=\"Age\", bins=bin_edges, edgecolor='k')\n",
    "axes[1].set_xticks(bin_edges)\n",
    "axes[1].set_xlabel('Age')\n",
    "axes[1].set_ylabel('Frequency')\n",
    "axes[1].set_title('Class 1 Age Distribution')\n",
    "\n",
    "# Plot the third histogram for class_1 on the second subplot\n",
    "axes[2].hist(data=class_2, x=\"Age\", bins=bin_edges, edgecolor='k')\n",
    "axes[2].set_xticks(bin_edges)\n",
    "axes[2].set_xlabel('Age')\n",
    "axes[2].set_ylabel('Frequency')\n",
    "axes[2].set_title('Class 2 Age Distribution')\n",
    "\n",
    "# Adjust spacing between subplots\n",
    "plt.tight_layout()\n",
    "\n",
    "# Show the plot\n",
    "plt.show()"
   ]
  },
  {
   "cell_type": "code",
   "execution_count": 10,
   "metadata": {},
   "outputs": [],
   "source": [
    "# Function that displays data in 2 dimensions and highlights all the different clusters\n",
    "def display_cluster(classes):\n",
    "    color = 'brgcmyk'\n",
    "    alpha = 0.5\n",
    "    s = 20\n",
    "\n",
    "    # Create a scatter plot for the age and account balance of a customer\n",
    "    for i, classi in enumerate(classes):\n",
    "        if -1 not in classi[\"Class\"].value_counts().index:\n",
    "            plt.scatter(data = classi, x = \"Age\", y = \"CustAccountBalance\", color = color[i], label = \"Class \" + str(i))\n",
    "\n",
    "        else:\n",
    "            plt.scatter(data = classi, x = \"Age\", y = \"CustAccountBalance\", color = \"k\", label = \"Noise\")\n",
    "            \n",
    "    # Label axes and add a title\n",
    "    plt.xlabel('Age')\n",
    "    plt.ylabel('Account Balance')\n",
    "    plt.legend()"
   ]
  },
  {
   "cell_type": "code",
   "execution_count": 11,
   "metadata": {},
   "outputs": [
    {
     "data": {
      "image/png": "[encoded data removed]",
      "text/plain": [
       "<Figure size 640x480 with 1 Axes>"
      ]
     },
     "metadata": {},
     "output_type": "display_data"
    }
   ],
   "source": [
    "classes = [class_0, class_1, class_2]\n",
    "display_cluster(classes)"
   ]
  },
  {
   "cell_type": "markdown",
   "metadata": {},
   "source": [
    "### DBSCAN"
   ]
  },
  {
   "cell_type": "code",
   "execution_count": 12,
   "metadata": {},
   "outputs": [
    {
     "data": {
      "text/html": [
       "<div>\n",
       "<style scoped>\n",
       "    .dataframe tbody tr th:only-of-type {\n",
       "        vertical-align: middle;\n",
       "    }\n",
       "\n",
       "    .dataframe tbody tr th {\n",
       "        vertical-align: top;\n",
       "    }\n",
       "\n",
       "    .dataframe thead th {\n",
       "        text-align: right;\n",
       "    }\n",
       "</style>\n",
       "<table border=\"1\" class=\"dataframe\">\n",
       "  <thead>\n",
       "    <tr style=\"text-align: right;\">\n",
       "      <th></th>\n",
       "      <th>CustGender</th>\n",
       "      <th>CustLocation</th>\n",
       "      <th>Age</th>\n",
       "      <th>CustAccountBalance</th>\n",
       "    </tr>\n",
       "  </thead>\n",
       "  <tbody>\n",
       "    <tr>\n",
       "      <th>24524</th>\n",
       "      <td>M</td>\n",
       "      <td>SITAPUR</td>\n",
       "      <td>30</td>\n",
       "      <td>79.61</td>\n",
       "    </tr>\n",
       "    <tr>\n",
       "      <th>36641</th>\n",
       "      <td>M</td>\n",
       "      <td>NEW DELHI</td>\n",
       "      <td>44</td>\n",
       "      <td>4470.46</td>\n",
       "    </tr>\n",
       "    <tr>\n",
       "      <th>9991</th>\n",
       "      <td>F</td>\n",
       "      <td>MANDI GOBINDGARH</td>\n",
       "      <td>40</td>\n",
       "      <td>13578.17</td>\n",
       "    </tr>\n",
       "    <tr>\n",
       "      <th>22000</th>\n",
       "      <td>M</td>\n",
       "      <td>NALANDA</td>\n",
       "      <td>37</td>\n",
       "      <td>13862.93</td>\n",
       "    </tr>\n",
       "    <tr>\n",
       "      <th>5881</th>\n",
       "      <td>M</td>\n",
       "      <td>KARNAL</td>\n",
       "      <td>49</td>\n",
       "      <td>2372.94</td>\n",
       "    </tr>\n",
       "    <tr>\n",
       "      <th>...</th>\n",
       "      <td>...</td>\n",
       "      <td>...</td>\n",
       "      <td>...</td>\n",
       "      <td>...</td>\n",
       "    </tr>\n",
       "    <tr>\n",
       "      <th>16711</th>\n",
       "      <td>M</td>\n",
       "      <td>JAIPUR</td>\n",
       "      <td>36</td>\n",
       "      <td>12689.87</td>\n",
       "    </tr>\n",
       "    <tr>\n",
       "      <th>38929</th>\n",
       "      <td>M</td>\n",
       "      <td>VISAKHAPATNAM</td>\n",
       "      <td>35</td>\n",
       "      <td>84229.97</td>\n",
       "    </tr>\n",
       "    <tr>\n",
       "      <th>29273</th>\n",
       "      <td>F</td>\n",
       "      <td>HYDERABAD</td>\n",
       "      <td>30</td>\n",
       "      <td>99752.05</td>\n",
       "    </tr>\n",
       "    <tr>\n",
       "      <th>28679</th>\n",
       "      <td>M</td>\n",
       "      <td>RUDRAPUR</td>\n",
       "      <td>36</td>\n",
       "      <td>44.27</td>\n",
       "    </tr>\n",
       "    <tr>\n",
       "      <th>38162</th>\n",
       "      <td>M</td>\n",
       "      <td>BANGALORE</td>\n",
       "      <td>36</td>\n",
       "      <td>33649.26</td>\n",
       "    </tr>\n",
       "  </tbody>\n",
       "</table>\n",
       "<p>30000 rows × 4 columns</p>\n",
       "</div>"
      ],
      "text/plain": [
       "      CustGender      CustLocation  Age  CustAccountBalance\n",
       "24524          M           SITAPUR   30               79.61\n",
       "36641          M         NEW DELHI   44             4470.46\n",
       "9991           F  MANDI GOBINDGARH   40            13578.17\n",
       "22000          M           NALANDA   37            13862.93\n",
       "5881           M            KARNAL   49             2372.94\n",
       "...          ...               ...  ...                 ...\n",
       "16711          M            JAIPUR   36            12689.87\n",
       "38929          M     VISAKHAPATNAM   35            84229.97\n",
       "29273          F         HYDERABAD   30            99752.05\n",
       "28679          M          RUDRAPUR   36               44.27\n",
       "38162          M         BANGALORE   36            33649.26\n",
       "\n",
       "[30000 rows x 4 columns]"
      ]
     },
     "execution_count": 12,
     "metadata": {},
     "output_type": "execute_result"
    }
   ],
   "source": [
    "# Drop the classes predicted by KMeans\n",
    "data.drop(columns=\"Class\", axis = 1, inplace = True)\n",
    "\n",
    "# Calculate the number of samples in the original data\n",
    "original_sample_size = X.shape[0]\n",
    "\n",
    "# Perform random downsampling\n",
    "sampled_indices = np.random.choice(original_sample_size, size = 30000, replace=False)\n",
    "downsampled_X = X.iloc[sampled_indices]\n",
    "\n",
    "# Downsampled dataframe\n",
    "df = data.iloc[sampled_indices]\n",
    "\n",
    "df"
   ]
  },
  {
   "cell_type": "code",
   "execution_count": 13,
   "metadata": {},
   "outputs": [
    {
     "name": "stderr",
     "output_type": "stream",
     "text": [
      "C:\\Users\\Admir\\AppData\\Local\\Temp\\ipykernel_24004\\3030735997.py:9: SettingWithCopyWarning: \n",
      "A value is trying to be set on a copy of a slice from a DataFrame.\n",
      "Try using .loc[row_indexer,col_indexer] = value instead\n",
      "\n",
      "See the caveats in the documentation: https://pandas.pydata.org/pandas-docs/stable/user_guide/indexing.html#returning-a-view-versus-a-copy\n",
      "  df[\"DB1\"] = y_pred\n"
     ]
    },
    {
     "data": {
      "text/plain": [
       "DB1\n",
       " 0    22466\n",
       " 1     7417\n",
       "-1      101\n",
       " 4        5\n",
       " 2        4\n",
       " 5        4\n",
       " 3        3\n",
       "Name: count, dtype: int64"
      ]
     },
     "execution_count": 13,
     "metadata": {},
     "output_type": "execute_result"
    }
   ],
   "source": [
    "from sklearn.cluster import DBSCAN\n",
    "\n",
    "db = DBSCAN(eps = 0.4, min_samples = 4) # Initialize the model\n",
    "db.fit(downsampled_X) # Fit the model\n",
    "\n",
    "# Store predicted classes (clusters)\n",
    "y_pred = db.labels_\n",
    "y_pred\n",
    "df[\"DB1\"] = y_pred\n",
    "\n",
    "# Check value counts for each cluster\n",
    "df[\"DB1\"].value_counts()"
   ]
  },
  {
   "cell_type": "code",
   "execution_count": 14,
   "metadata": {},
   "outputs": [
    {
     "name": "stderr",
     "output_type": "stream",
     "text": [
      "C:\\Users\\Admir\\AppData\\Local\\Temp\\ipykernel_24004\\2635014828.py:7: SettingWithCopyWarning: \n",
      "A value is trying to be set on a copy of a slice from a DataFrame.\n",
      "Try using .loc[row_indexer,col_indexer] = value instead\n",
      "\n",
      "See the caveats in the documentation: https://pandas.pydata.org/pandas-docs/stable/user_guide/indexing.html#returning-a-view-versus-a-copy\n",
      "  df[\"DB2\"] = y_pred\n"
     ]
    },
    {
     "data": {
      "text/plain": [
       "DB2\n",
       " 0    22478\n",
       " 1     7434\n",
       "-1       80\n",
       " 2        8\n",
       "Name: count, dtype: int64"
      ]
     },
     "execution_count": 14,
     "metadata": {},
     "output_type": "execute_result"
    }
   ],
   "source": [
    "db = DBSCAN(eps = 0.5, min_samples = 4) # Initialize the model\n",
    "db.fit(downsampled_X) # Fit the model\n",
    "\n",
    "# Store predicted classes (clusters)\n",
    "y_pred = db.labels_\n",
    "y_pred\n",
    "df[\"DB2\"] = y_pred\n",
    "\n",
    "# Check value counts for each cluster\n",
    "df[\"DB2\"].value_counts()"
   ]
  },
  {
   "cell_type": "code",
   "execution_count": 15,
   "metadata": {},
   "outputs": [
    {
     "name": "stderr",
     "output_type": "stream",
     "text": [
      "C:\\Users\\Admir\\AppData\\Local\\Temp\\ipykernel_24004\\1541649520.py:7: SettingWithCopyWarning: \n",
      "A value is trying to be set on a copy of a slice from a DataFrame.\n",
      "Try using .loc[row_indexer,col_indexer] = value instead\n",
      "\n",
      "See the caveats in the documentation: https://pandas.pydata.org/pandas-docs/stable/user_guide/indexing.html#returning-a-view-versus-a-copy\n",
      "  df[\"Class\"] = y_pred\n"
     ]
    },
    {
     "data": {
      "text/plain": [
       "Class\n",
       " 0    22492\n",
       " 1     7450\n",
       "-1       58\n",
       "Name: count, dtype: int64"
      ]
     },
     "execution_count": 15,
     "metadata": {},
     "output_type": "execute_result"
    }
   ],
   "source": [
    "db = DBSCAN(eps = 0.6, min_samples = 4) # Initialize the model\n",
    "db.fit(downsampled_X) # Fit the model\n",
    "\n",
    "# Store predicted classes (clusters)\n",
    "y_pred = db.labels_\n",
    "y_pred\n",
    "df[\"Class\"] = y_pred\n",
    "\n",
    "# Check value counts for each cluster\n",
    "df[\"Class\"].value_counts()"
   ]
  },
  {
   "cell_type": "code",
   "execution_count": 16,
   "metadata": {},
   "outputs": [
    {
     "name": "stderr",
     "output_type": "stream",
     "text": [
      "C:\\Users\\Admir\\AppData\\Local\\Temp\\ipykernel_24004\\3452888416.py:7: SettingWithCopyWarning: \n",
      "A value is trying to be set on a copy of a slice from a DataFrame.\n",
      "Try using .loc[row_indexer,col_indexer] = value instead\n",
      "\n",
      "See the caveats in the documentation: https://pandas.pydata.org/pandas-docs/stable/user_guide/indexing.html#returning-a-view-versus-a-copy\n",
      "  df[\"DB4\"] = y_pred\n"
     ]
    },
    {
     "data": {
      "text/plain": [
       "DB4\n",
       " 0    22497\n",
       " 1     7451\n",
       "-1       52\n",
       "Name: count, dtype: int64"
      ]
     },
     "execution_count": 16,
     "metadata": {},
     "output_type": "execute_result"
    }
   ],
   "source": [
    "db = DBSCAN(eps = 0.7, min_samples = 4) # Initialize the model\n",
    "db.fit(downsampled_X) # Fit the model\n",
    "\n",
    "# Store predicted classes (clusters)\n",
    "y_pred = db.labels_\n",
    "y_pred\n",
    "df[\"DB4\"] = y_pred\n",
    "\n",
    "# Check value counts for each cluster\n",
    "df[\"DB4\"].value_counts()"
   ]
  },
  {
   "cell_type": "code",
   "execution_count": 17,
   "metadata": {},
   "outputs": [],
   "source": [
    "### The third model is the only one without very small clusters\n",
    "\n",
    "# Get three dataframes (one for each class)\n",
    "class_0 = df[df[\"Class\"] == 0]\n",
    "class_1 = df[df[\"Class\"] == 1]\n",
    "noise = df[df[\"Class\"] == -1]"
   ]
  },
  {
   "cell_type": "code",
   "execution_count": 18,
   "metadata": {},
   "outputs": [
    {
     "data": {
      "image/png": "[encoded data removed]",
      "text/plain": [
       "<Figure size 640x480 with 1 Axes>"
      ]
     },
     "metadata": {},
     "output_type": "display_data"
    }
   ],
   "source": [
    "classes = [class_0, class_1, noise]\n",
    "display_cluster(classes)"
   ]
  },
  {
   "cell_type": "markdown",
   "metadata": {},
   "source": [
    "### Hierarchical clustering"
   ]
  },
  {
   "cell_type": "code",
   "execution_count": 19,
   "metadata": {},
   "outputs": [
    {
     "data": {
      "text/html": [
       "<div>\n",
       "<style scoped>\n",
       "    .dataframe tbody tr th:only-of-type {\n",
       "        vertical-align: middle;\n",
       "    }\n",
       "\n",
       "    .dataframe tbody tr th {\n",
       "        vertical-align: top;\n",
       "    }\n",
       "\n",
       "    .dataframe thead th {\n",
       "        text-align: right;\n",
       "    }\n",
       "</style>\n",
       "<table border=\"1\" class=\"dataframe\">\n",
       "  <thead>\n",
       "    <tr style=\"text-align: right;\">\n",
       "      <th></th>\n",
       "      <th>CustGender</th>\n",
       "      <th>CustLocation</th>\n",
       "      <th>Age</th>\n",
       "      <th>CustAccountBalance</th>\n",
       "    </tr>\n",
       "  </thead>\n",
       "  <tbody>\n",
       "    <tr>\n",
       "      <th>0</th>\n",
       "      <td>M</td>\n",
       "      <td>MOHALI</td>\n",
       "      <td>41</td>\n",
       "      <td>48429.49</td>\n",
       "    </tr>\n",
       "    <tr>\n",
       "      <th>1</th>\n",
       "      <td>M</td>\n",
       "      <td>AHMEDABAD</td>\n",
       "      <td>45</td>\n",
       "      <td>32274.78</td>\n",
       "    </tr>\n",
       "    <tr>\n",
       "      <th>2</th>\n",
       "      <td>M</td>\n",
       "      <td>KOTA</td>\n",
       "      <td>32</td>\n",
       "      <td>282455.64</td>\n",
       "    </tr>\n",
       "    <tr>\n",
       "      <th>3</th>\n",
       "      <td>M</td>\n",
       "      <td>AGRA</td>\n",
       "      <td>29</td>\n",
       "      <td>2502.74</td>\n",
       "    </tr>\n",
       "    <tr>\n",
       "      <th>4</th>\n",
       "      <td>M</td>\n",
       "      <td>PUNE</td>\n",
       "      <td>32</td>\n",
       "      <td>250.26</td>\n",
       "    </tr>\n",
       "    <tr>\n",
       "      <th>...</th>\n",
       "      <td>...</td>\n",
       "      <td>...</td>\n",
       "      <td>...</td>\n",
       "      <td>...</td>\n",
       "    </tr>\n",
       "    <tr>\n",
       "      <th>44469</th>\n",
       "      <td>M</td>\n",
       "      <td>THANE</td>\n",
       "      <td>33</td>\n",
       "      <td>218207.57</td>\n",
       "    </tr>\n",
       "    <tr>\n",
       "      <th>44470</th>\n",
       "      <td>M</td>\n",
       "      <td>IMPERIA THANE WEST</td>\n",
       "      <td>41</td>\n",
       "      <td>182889.37</td>\n",
       "    </tr>\n",
       "    <tr>\n",
       "      <th>44471</th>\n",
       "      <td>F</td>\n",
       "      <td>NEW DELHI</td>\n",
       "      <td>30</td>\n",
       "      <td>15037.89</td>\n",
       "    </tr>\n",
       "    <tr>\n",
       "      <th>44472</th>\n",
       "      <td>M</td>\n",
       "      <td>SHILLLONG</td>\n",
       "      <td>35</td>\n",
       "      <td>1002.96</td>\n",
       "    </tr>\n",
       "    <tr>\n",
       "      <th>44473</th>\n",
       "      <td>M</td>\n",
       "      <td>VISAKHAPATNAM</td>\n",
       "      <td>45</td>\n",
       "      <td>10117.87</td>\n",
       "    </tr>\n",
       "  </tbody>\n",
       "</table>\n",
       "<p>44474 rows × 4 columns</p>\n",
       "</div>"
      ],
      "text/plain": [
       "      CustGender        CustLocation  Age  CustAccountBalance\n",
       "0              M              MOHALI   41            48429.49\n",
       "1              M           AHMEDABAD   45            32274.78\n",
       "2              M                KOTA   32           282455.64\n",
       "3              M                AGRA   29             2502.74\n",
       "4              M                PUNE   32              250.26\n",
       "...          ...                 ...  ...                 ...\n",
       "44469          M               THANE   33           218207.57\n",
       "44470          M  IMPERIA THANE WEST   41           182889.37\n",
       "44471          F           NEW DELHI   30            15037.89\n",
       "44472          M           SHILLLONG   35             1002.96\n",
       "44473          M       VISAKHAPATNAM   45            10117.87\n",
       "\n",
       "[44474 rows x 4 columns]"
      ]
     },
     "execution_count": 19,
     "metadata": {},
     "output_type": "execute_result"
    }
   ],
   "source": [
    "data"
   ]
  },
  {
   "cell_type": "code",
   "execution_count": 20,
   "metadata": {},
   "outputs": [],
   "source": [
    "# Drop the classes predicted by KMeans\n",
    "#data.drop(columns=\"Class\", axis = 1, inplace = True)\n",
    "\n",
    "# Calculate the number of samples in the original data\n",
    "original_sample_size = X.shape[0]\n",
    "\n",
    "# Perform random downsampling\n",
    "sampled_indices = np.random.choice(original_sample_size, size = 20000, replace=False)\n",
    "downsampled_X = X.iloc[sampled_indices]\n",
    "\n",
    "# Downsampled dataframe\n",
    "df = data.iloc[sampled_indices]"
   ]
  },
  {
   "cell_type": "code",
   "execution_count": 21,
   "metadata": {},
   "outputs": [
    {
     "name": "stderr",
     "output_type": "stream",
     "text": [
      "C:\\Users\\Admir\\AppData\\Local\\Temp\\ipykernel_24004\\2257392501.py:7: SettingWithCopyWarning: \n",
      "A value is trying to be set on a copy of a slice from a DataFrame.\n",
      "Try using .loc[row_indexer,col_indexer] = value instead\n",
      "\n",
      "See the caveats in the documentation: https://pandas.pydata.org/pandas-docs/stable/user_guide/indexing.html#returning-a-view-versus-a-copy\n",
      "  df['Class'] = ag.fit_predict(downsampled_X)\n"
     ]
    },
    {
     "data": {
      "text/html": [
       "<div>\n",
       "<style scoped>\n",
       "    .dataframe tbody tr th:only-of-type {\n",
       "        vertical-align: middle;\n",
       "    }\n",
       "\n",
       "    .dataframe tbody tr th {\n",
       "        vertical-align: top;\n",
       "    }\n",
       "\n",
       "    .dataframe thead th {\n",
       "        text-align: right;\n",
       "    }\n",
       "</style>\n",
       "<table border=\"1\" class=\"dataframe\">\n",
       "  <thead>\n",
       "    <tr style=\"text-align: right;\">\n",
       "      <th></th>\n",
       "      <th>CustGender</th>\n",
       "      <th>CustLocation</th>\n",
       "      <th>Age</th>\n",
       "      <th>CustAccountBalance</th>\n",
       "      <th>Class</th>\n",
       "    </tr>\n",
       "  </thead>\n",
       "  <tbody>\n",
       "    <tr>\n",
       "      <th>20435</th>\n",
       "      <td>M</td>\n",
       "      <td>BANGALORE</td>\n",
       "      <td>35</td>\n",
       "      <td>272804.87</td>\n",
       "      <td>1</td>\n",
       "    </tr>\n",
       "    <tr>\n",
       "      <th>6384</th>\n",
       "      <td>F</td>\n",
       "      <td>BURDWAN</td>\n",
       "      <td>37</td>\n",
       "      <td>72784.35</td>\n",
       "      <td>1</td>\n",
       "    </tr>\n",
       "    <tr>\n",
       "      <th>2517</th>\n",
       "      <td>M</td>\n",
       "      <td>PALGHAR</td>\n",
       "      <td>38</td>\n",
       "      <td>3562.25</td>\n",
       "      <td>1</td>\n",
       "    </tr>\n",
       "    <tr>\n",
       "      <th>41064</th>\n",
       "      <td>F</td>\n",
       "      <td>THANE</td>\n",
       "      <td>32</td>\n",
       "      <td>8357.17</td>\n",
       "      <td>1</td>\n",
       "    </tr>\n",
       "    <tr>\n",
       "      <th>37529</th>\n",
       "      <td>M</td>\n",
       "      <td>WEST MUMBAI</td>\n",
       "      <td>32</td>\n",
       "      <td>10.01</td>\n",
       "      <td>1</td>\n",
       "    </tr>\n",
       "    <tr>\n",
       "      <th>...</th>\n",
       "      <td>...</td>\n",
       "      <td>...</td>\n",
       "      <td>...</td>\n",
       "      <td>...</td>\n",
       "      <td>...</td>\n",
       "    </tr>\n",
       "    <tr>\n",
       "      <th>1495</th>\n",
       "      <td>M</td>\n",
       "      <td>FARIDABAD</td>\n",
       "      <td>33</td>\n",
       "      <td>26332.94</td>\n",
       "      <td>1</td>\n",
       "    </tr>\n",
       "    <tr>\n",
       "      <th>29044</th>\n",
       "      <td>M</td>\n",
       "      <td>LUCKNOW</td>\n",
       "      <td>39</td>\n",
       "      <td>63541.93</td>\n",
       "      <td>1</td>\n",
       "    </tr>\n",
       "    <tr>\n",
       "      <th>3671</th>\n",
       "      <td>F</td>\n",
       "      <td>IMPHAL</td>\n",
       "      <td>36</td>\n",
       "      <td>6552.71</td>\n",
       "      <td>1</td>\n",
       "    </tr>\n",
       "    <tr>\n",
       "      <th>28995</th>\n",
       "      <td>M</td>\n",
       "      <td>NEW DELHI</td>\n",
       "      <td>32</td>\n",
       "      <td>28.74</td>\n",
       "      <td>1</td>\n",
       "    </tr>\n",
       "    <tr>\n",
       "      <th>23170</th>\n",
       "      <td>M</td>\n",
       "      <td>COIMBATORE</td>\n",
       "      <td>65</td>\n",
       "      <td>100679.85</td>\n",
       "      <td>2</td>\n",
       "    </tr>\n",
       "  </tbody>\n",
       "</table>\n",
       "<p>20000 rows × 5 columns</p>\n",
       "</div>"
      ],
      "text/plain": [
       "      CustGender CustLocation  Age  CustAccountBalance  Class\n",
       "20435          M    BANGALORE   35           272804.87      1\n",
       "6384           F      BURDWAN   37            72784.35      1\n",
       "2517           M      PALGHAR   38             3562.25      1\n",
       "41064          F        THANE   32             8357.17      1\n",
       "37529          M  WEST MUMBAI   32               10.01      1\n",
       "...          ...          ...  ...                 ...    ...\n",
       "1495           M    FARIDABAD   33            26332.94      1\n",
       "29044          M      LUCKNOW   39            63541.93      1\n",
       "3671           F       IMPHAL   36             6552.71      1\n",
       "28995          M    NEW DELHI   32               28.74      1\n",
       "23170          M   COIMBATORE   65           100679.85      2\n",
       "\n",
       "[20000 rows x 5 columns]"
      ]
     },
     "execution_count": 21,
     "metadata": {},
     "output_type": "execute_result"
    }
   ],
   "source": [
    "from sklearn.cluster import AgglomerativeClustering\n",
    "\n",
    "ag = AgglomerativeClustering(n_clusters = 3, linkage = \"ward\", metric = \"euclidean\") # Initialize the model\n",
    "ag = ag.fit(downsampled_X) # Fit the model\n",
    "\n",
    "# Store predictions\n",
    "df['Class'] = ag.fit_predict(downsampled_X)\n",
    "df"
   ]
  },
  {
   "cell_type": "code",
   "execution_count": 22,
   "metadata": {},
   "outputs": [
    {
     "data": {
      "image/png": "[encoded data removed]",
      "text/plain": [
       "<Figure size 1500x500 with 1 Axes>"
      ]
     },
     "metadata": {},
     "output_type": "display_data"
    }
   ],
   "source": [
    "# Plot the hierarchy dendogram\n",
    "from scipy.cluster import hierarchy\n",
    "Z = hierarchy.linkage(ag.children_, method='ward')\n",
    "\n",
    "fig, ax = plt.subplots(figsize=(15,5))\n",
    "\n",
    "den = hierarchy.dendrogram(Z, orientation='top', \n",
    "                           p=30, truncate_mode='lastp',\n",
    "                           show_leaf_counts=True, ax=ax)"
   ]
  },
  {
   "cell_type": "code",
   "execution_count": 23,
   "metadata": {},
   "outputs": [
    {
     "data": {
      "image/png": "[encoded data removed]",
      "text/plain": [
       "<Figure size 640x480 with 1 Axes>"
      ]
     },
     "metadata": {},
     "output_type": "display_data"
    }
   ],
   "source": [
    "# Get three dataframes (one for each class)\n",
    "class_0 = df[df[\"Class\"] == 0]\n",
    "class_1 = df[df[\"Class\"] == 1]\n",
    "class_2 = df[df[\"Class\"] == 2]\n",
    "\n",
    "classes = [class_0, class_1, class_2]\n",
    "display_cluster(classes)"
   ]
  },
  {
   "cell_type": "code",
   "execution_count": 24,
   "metadata": {},
   "outputs": [
    {
     "data": {
      "image/png": "[encoded data removed]",
      "text/plain": [
       "<Figure size 1200x400 with 3 Axes>"
      ]
     },
     "metadata": {},
     "output_type": "display_data"
    }
   ],
   "source": [
    "# Create a figure with three subplots\n",
    "fig, axes = plt.subplots(1, 3, figsize=(12, 4))  # 1 row, 3 columns of subplots\n",
    "\n",
    "# Get value counts for genders of each class\n",
    "gender_counts0 = class_0['CustGender'].value_counts()\n",
    "gender_counts1 = class_1['CustGender'].value_counts()\n",
    "gender_counts2 = class_2['CustGender'].value_counts()\n",
    "\n",
    "# Plot the first barplot for class_0 on the first subplot\n",
    "axes[0].barh(gender_counts0.index, gender_counts0.values, color=['blue', 'pink'])\n",
    "axes[0].set_xlabel('Count')\n",
    "axes[0].set_yticks(gender_counts0.index, ['Male', 'Female'])\n",
    "axes[0].set_title('Class 0 Gender Distribution')\n",
    "\n",
    "# Plot the second barplot for class_1 on the second subplot\n",
    "axes[1].barh(gender_counts1.index, gender_counts1.values, color=['blue', 'pink'])\n",
    "axes[1].set_xlabel('Count')\n",
    "axes[1].set_yticks(gender_counts1.index, ['Male', 'Female'])\n",
    "axes[1].set_title('Class 1 Gender Distribution')\n",
    "\n",
    "# Plot the third barplot for class_1 on the second subplot\n",
    "axes[2].barh(gender_counts2.index, gender_counts2.values, color=['blue', 'pink'])\n",
    "axes[2].set_xlabel('Count')\n",
    "axes[2].set_yticks(gender_counts2.index, ['Male', 'Female'])\n",
    "axes[2].set_title('Class 2 Gender Distribution')\n",
    "\n",
    "# Adjust spacing between subplots\n",
    "plt.tight_layout()\n",
    "\n",
    "# Show the plot\n",
    "plt.show()"
   ]
  }
 ],
 "metadata": {
  "kernelspec": {
   "display_name": "Bank",
   "language": "python",
   "name": "python3"
  },
  "language_info": {
   "codemirror_mode": {
    "name": "ipython",
    "version": 3
   },
   "file_extension": ".py",
   "mimetype": "text/x-python",
   "name": "python",
   "nbconvert_exporter": "python",
   "pygments_lexer": "ipython3",
   "version": "3.11.5"
  },
  "orig_nbformat": 4
 },
 "nbformat": 4,
 "nbformat_minor": 2
}
